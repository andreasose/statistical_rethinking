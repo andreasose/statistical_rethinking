{
 "cells": [
  {
   "cell_type": "markdown",
   "metadata": {},
   "source": [
    "# Ch2: Small Worlds and Large Worlds\n",
    "## Answers to practice questions"
   ]
  },
  {
   "cell_type": "markdown",
   "metadata": {},
   "source": [
    "**2E1.** Which of the expressions below correspond to the statement: _The probability of rain on Monday?_\n",
    "\n",
    "1. Pr(rain)\n",
    "2. Pr(rain|Monday)\n",
    "3. Pr(Monday|rain)\n",
    "4. Pr(rain, Monday)/Pr(Monday)"
   ]
  },
  {
   "cell_type": "markdown",
   "metadata": {},
   "source": [
    "## Answer:\n",
    "### 2. Pr(rain|Monday)\n",
    "### (However some people have also suggested 4)"
   ]
  },
  {
   "cell_type": "markdown",
   "metadata": {
    "collapsed": true
   },
   "source": [
    "**2E2.** Which of the following statements corresponds to the expression: _Pr(Monday|rain)_?\n",
    "\n",
    "1. The probability of rain on Monday.\n",
    "2. The probability of rain, given that it is Monday.\n",
    "3. The probability that it is Monday, given that it is raining.\n",
    "4. The probability that is is Monday and that it is raining."
   ]
  },
  {
   "cell_type": "markdown",
   "metadata": {},
   "source": [
    "## Answer:\n",
    "### 2"
   ]
  },
  {
   "cell_type": "markdown",
   "metadata": {},
   "source": [
    "**2E3.** Which of the expressions below correspond to the statement: _the probability that it is Monday, given that it is raining?_\n",
    "\n",
    "1. Pr(Monday|rain)\n",
    "2. Pr(rain|Monday)\n",
    "3. Pr(rain|Monday)Pr(Monday)\n",
    "4. Pr(rain|Monday)Pr(Monday)/Pr(rain)\n",
    "5. Pr(Monday|rain)Pr(rain)/Pr(Monday)"
   ]
  },
  {
   "cell_type": "markdown",
   "metadata": {},
   "source": [
    "## Answer:\n",
    "### 1 and 4(?)"
   ]
  },
  {
   "cell_type": "markdown",
   "metadata": {
    "collapsed": true
   },
   "source": [
    "## Fill in question 2E3 and 2E4 later"
   ]
  },
  {
   "cell_type": "markdown",
   "metadata": {},
   "source": [
    "# Medium"
   ]
  },
  {
   "cell_type": "markdown",
   "metadata": {},
   "source": [
    "## 2M1\n",
    "Recall the globe tossing model from the chapter. Compute and plot the grid approximate posterior distribution for each of the following sets of observations. In each case, assume a uniform prior for _p_.\n",
    "1. W, W, W\n",
    "2. W, W, W, L\n",
    "3. L, W, W, L, W, W, W"
   ]
  },
  {
   "cell_type": "code",
   "execution_count": null,
   "metadata": {
    "collapsed": true
   },
   "outputs": [],
   "source": []
  }
 ],
 "metadata": {
  "kernelspec": {
   "display_name": "Python [conda root]",
   "language": "python",
   "name": "conda-root-py"
  },
  "language_info": {
   "codemirror_mode": {
    "name": "ipython",
    "version": 3
   },
   "file_extension": ".py",
   "mimetype": "text/x-python",
   "name": "python",
   "nbconvert_exporter": "python",
   "pygments_lexer": "ipython3",
   "version": "3.5.3"
  }
 },
 "nbformat": 4,
 "nbformat_minor": 2
}
